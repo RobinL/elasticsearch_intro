{
 "cells": [
  {
   "cell_type": "markdown",
   "metadata": {},
   "source": [
    "#### These notebooks provide brief getting started notes on installing and using elasticsearch for searching free text documents in text, html, pdf and doc/docx format"
   ]
  },
  {
   "cell_type": "markdown",
   "metadata": {},
   "source": [
    "First download elasticsearch from: https://www.elastic.co/downloads/elasticsearch.  Extract.  No further install is necessary.\n",
    "\n",
    "You might need to install a java runtime, which you can do using [homebrew](http://stackoverflow.com/questions/24342886/how-to-install-java-8-on-mac) on mac.\n",
    "\n",
    "Next you want the mapper attachments plugin, which will allow you to put pdfs and other documents into the database in a searchable format.\n",
    "\n",
    "To do this, in the terminal `cd` to the directory where elasticsearch is installed (where you uncompressed the files), and run  `bin/plugin install mapper-attachments`\n",
    "\n",
    "Follow the [hello world](https://www.elastic.co/guide/en/elasticsearch/plugins/master/mapper-attachments-helloworld.html) guidance to make sure everything is working"
   ]
  },
  {
   "cell_type": "markdown",
   "metadata": {},
   "source": [
    "Next we need to design our 'database' - but to do this we need to learn some terminology.\n",
    "\n",
    "'An index' = a bit like a database\n",
    "\n",
    "'To index' = to put somethign in the database\n",
    "\n",
    "'Type' = Similar to a table\n",
    "\n",
    "'Document with properties' = row with columns\n",
    "\n",
    "![image](https://www.elastic.co/assets/blt4852179309023a90/index-type-docs.png)"
   ]
  },
  {
   "cell_type": "markdown",
   "metadata": {},
   "source": [
    "The first job is to set up a '[mapping](https://www.elastic.co/blog/found-elasticsearch-mapping-introduction)' ('schema') for our 'index'.  This tells elasticsearch what documents you're going to put into your index.\n",
    "\n",
    "Note that we will be adding data into elasticsearch in JSON format, so our mappings are going to correspond to these JSON structures.  We're even going to use json for pdf and other binary documents by first encoding them into base64.\n",
    "\n",
    "The schema in Elasticsearch is a mapping that describes the the fields in the JSON documents along with their data type, as well as how they should be indexed in the Lucene indexes that lie under the hood.\n",
    "\n",
    "In the Elasticsearch documentation and related material, we often see the term “mapping type”, which is actually the name of the type inside the index, such as my_type and another_type in the figure above. When we talk about types in Elasticsearch, it is usually this definition of type. It is not to be confused with the type key inside each mapping definition that determines how the data inside the documents are handled by Elasticsearch (e.g date field, string etc)."
   ]
  },
  {
   "cell_type": "markdown",
   "metadata": {},
   "source": [
    "Note that we do not actually need to specify a schema - we can get elasticsearch to 'autodetect' the schema.  But it's probably better to be explicit because then we understand what we're doing and in any case elasticsearch sometimes makes mistakes.\n",
    "\n",
    "**Getting started with our mapping**\n",
    "\n",
    "We'll call the index (database) 'casedb'\n",
    "\n",
    "We'll call the type (table) 'allcases'\n",
    "\n",
    "We'll call each document (row) 'onecase'.  \n",
    "\n",
    "We then define columns, each which has a type (like 'string' or 'attachment')\n",
    "\n",
    "The following assumes you have elasticserach running, which you can do by `cd`ing into the elasticsearch directoring and typing `bin/elasticsearch`"
   ]
  },
  {
   "cell_type": "code",
   "execution_count": 3,
   "metadata": {
    "collapsed": false
   },
   "outputs": [],
   "source": [
    "#The logging code will get elastic serach to print the curl commands being issued - you can run these directly on the command line if you'd like to\n",
    "import logging\n",
    "logger = logging.getLogger(\"elasticsearch.trace\")\n",
    "logger.setLevel(\"DEBUG\")\n",
    "\n",
    "#Set up an elasticsearch object\n",
    "from elasticsearch import Elasticsearch\n",
    "es = Elasticsearch()"
   ]
  },
  {
   "cell_type": "markdown",
   "metadata": {},
   "source": [
    "The Python bindings are as close as possible to the REST API\n",
    "So if we want to do:\n",
    "\n",
    "    curl 'localhost:9200/_cat/health?v'\n",
    "    \n",
    "we do"
   ]
  },
  {
   "cell_type": "code",
   "execution_count": 5,
   "metadata": {
    "collapsed": false
   },
   "outputs": [
    {
     "name": "stderr",
     "output_type": "stream",
     "text": [
      "INFO:elasticsearch.trace:curl -XGET 'http://localhost:9200/_cat/health?pretty' -d ''\n",
      "DEBUG:elasticsearch.trace:#[200] (0.040s)\n",
      "#1462300537 19:35:37 elasticsearch yellow 1 1 5 5 0 0 5 0 - 50.0% \n",
      "#\n"
     ]
    },
    {
     "data": {
      "text/plain": [
       "u'1462300537 19:35:37 elasticsearch yellow 1 1 5 5 0 0 5 0 - 50.0% \\n'"
      ]
     },
     "execution_count": 5,
     "metadata": {},
     "output_type": "execute_result"
    }
   ],
   "source": [
    "es.cat.health()"
   ]
  },
  {
   "cell_type": "code",
   "execution_count": 6,
   "metadata": {
    "collapsed": false
   },
   "outputs": [
    {
     "name": "stderr",
     "output_type": "stream",
     "text": [
      "INFO:elasticsearch.trace:curl -XGET 'http://localhost:9200/_cat/indices?pretty' -d ''\n",
      "DEBUG:elasticsearch.trace:#[200] (0.045s)\n",
      "#yellow open casedb 5 1 769 0 272.7mb 272.7mb \n",
      "#\n"
     ]
    },
    {
     "data": {
      "text/plain": [
       "u'yellow open casedb 5 1 769 0 272.7mb 272.7mb \\n'"
      ]
     },
     "execution_count": 6,
     "metadata": {},
     "output_type": "execute_result"
    }
   ],
   "source": [
    "es.cat.indices()"
   ]
  },
  {
   "cell_type": "code",
   "execution_count": 6,
   "metadata": {
    "collapsed": false
   },
   "outputs": [
    {
     "name": "stderr",
     "output_type": "stream",
     "text": [
      "INFO:elasticsearch.trace:curl -XPUT 'http://localhost:9200/casedb?pretty' -d ''\n",
      "DEBUG:elasticsearch.trace:#[200] (0.027s)\n",
      "#{\n",
      "#  \"acknowledged\": true\n",
      "#}\n"
     ]
    },
    {
     "data": {
      "text/plain": [
       "{u'acknowledged': True}"
      ]
     },
     "execution_count": 6,
     "metadata": {},
     "output_type": "execute_result"
    }
   ],
   "source": [
    "# Let's call the index (database) 'casedb'\n",
    "es.indices.create(\"casedb\")"
   ]
  },
  {
   "cell_type": "code",
   "execution_count": 34,
   "metadata": {
    "collapsed": false
   },
   "outputs": [
    {
     "data": {
      "text/plain": [
       "{u'acknowledged': True}"
      ]
     },
     "execution_count": 34,
     "metadata": {},
     "output_type": "execute_result"
    }
   ],
   "source": [
    "# Let's call the type (table) 'allcases'\n",
    "# Let's call each document (row) 'onecase'.  \n",
    "# We then define columns, each which has a type (like 'string' or 'attachment')\n",
    "\n",
    "# What's confusing is that the 'fields' in this are actually meta fields.  \n",
    "\n",
    "# Metafields are specific to nested objects like attachments or json documents\n",
    "\n",
    "# The actual columns/'fields' are the properties\n",
    "\n",
    "mappings = '''\n",
    "{\n",
    "    \"mappings\": {\n",
    "        \"all_cases\": {\n",
    "            \"properties\": {\n",
    "                \"my_attachment\": {\n",
    "                    \"type\": \"attachment\",\n",
    "                    \"fields\": {\n",
    "                        \"content\": {\n",
    "                            \"type\": \"string\",\n",
    "                            \"term_vector\": \"with_positions_offsets\",\n",
    "                            \"store\": true\n",
    "                        }\n",
    "                    }\n",
    "                },\n",
    "                \"file_name\" :{\n",
    "                    \"type\": \"string\"\n",
    "                }\n",
    "            }\n",
    "        }\n",
    "    }\n",
    "}\n",
    "'''\n",
    "\n",
    "if es.indices.exists(\"casedb\"):\n",
    "    es.indices.delete(index=\"casedb\")\n",
    "    \n",
    "es.indices.create(index='casedb', ignore=400, body=mappings)"
   ]
  },
  {
   "cell_type": "code",
   "execution_count": 35,
   "metadata": {
    "collapsed": true
   },
   "outputs": [],
   "source": [
    "# Now we are ready to put documents in the index\n",
    "# This is harder than it seems because the documents must be in .json format\n",
    "# with any files encoded in base64\n",
    "\n",
    "def createEncodedTempFile(fname):\n",
    "    \"\"\"\n",
    "    Creates a json file that matches the mapping specified above\n",
    "    \n",
    "    \"\"\"\n",
    "    import json\n",
    "\n",
    "    file64 = open(fname, \"rb\").read().encode(\"base64\")\n",
    "\n",
    "    f = open(\"tmp.json\", 'w')\n",
    "    data = { 'my_attachment': file64,\n",
    "           'file_name' : fname }\n",
    "    json.dump(data, f) # dump json to tmp file\n",
    "    f.close()"
   ]
  },
  {
   "cell_type": "code",
   "execution_count": 36,
   "metadata": {
    "collapsed": true
   },
   "outputs": [],
   "source": [
    "# Test on a single pdf\n",
    "createEncodedTempFile(\"/Users/robinlinacre/Documents/python_projects/elasticsearch/downloaded_files/a-v-b-and-c-judgment.pdf\")\n",
    "fpath = \"/Users/robinlinacre/Documents/python_projects/elasticsearch/downloaded_files/abu-hamza-others-judgment-05102012.pdf\"\n",
    "createEncodedTempFile(fpath)"
   ]
  },
  {
   "cell_type": "code",
   "execution_count": 37,
   "metadata": {
    "collapsed": false
   },
   "outputs": [
    {
     "data": {
      "text/plain": [
       "{u'_id': u'1',\n",
       " u'_index': u'casedb',\n",
       " u'_shards': {u'failed': 0, u'successful': 1, u'total': 2},\n",
       " u'_type': u'all_cases',\n",
       " u'_version': 1,\n",
       " u'created': True}"
      ]
     },
     "execution_count": 37,
     "metadata": {},
     "output_type": "execute_result"
    }
   ],
   "source": [
    "# Add to index\n",
    "import json\n",
    "with open(\"tmp.json\") as f:\n",
    "    b = json.load(f)\n",
    "# es.index(index=\"casedb\", doc_type=\"all_cases\", body=b)  this doesn't work properly because \n",
    "# it renders the fileas a curl command\n",
    "\n",
    "logger = logging.getLogger(\"elasticsearch.trace\")\n",
    "logger.setLevel(\"ERROR\")\n",
    "es.index(index=\"casedb\", doc_type=\"all_cases\", body=b, id=1) "
   ]
  },
  {
   "cell_type": "code",
   "execution_count": 7,
   "metadata": {
    "collapsed": false
   },
   "outputs": [],
   "source": [
    "#Now we're going to run a query against the document we just added\n",
    "logger = logging.getLogger(\"elasticsearch.trace\")\n",
    "logger.setLevel(\"ERROR\")"
   ]
  },
  {
   "cell_type": "code",
   "execution_count": 13,
   "metadata": {
    "collapsed": false
   },
   "outputs": [
    {
     "data": {
      "text/html": [
       "\n",
       "<style>\n",
       ".output_subarea.output_html.rendered_html em {\n",
       "    font-weight:bold;\n",
       "    background-color: yellow;\n",
       "    \n",
       "    }\n",
       "</style>\n"
      ],
      "text/plain": [
       "<IPython.core.display.HTML object>"
      ]
     },
     "execution_count": 13,
     "metadata": {},
     "output_type": "execute_result"
    }
   ],
   "source": [
    "#This just styles the output to highlight the matches.\n",
    "from IPython.core.display import HTML\n",
    "HTML(\"\"\"\n",
    "<style>\n",
    ".output_subarea.output_html.rendered_html em {\n",
    "    font-weight:bold;\n",
    "    background-color: yellow;\n",
    "    \n",
    "    }\n",
    "</style>\n",
    "\"\"\")"
   ]
  },
  {
   "cell_type": "code",
   "execution_count": 20,
   "metadata": {
    "collapsed": false
   },
   "outputs": [
    {
     "data": {
      "text/html": [
       "for some 8 years in the case of \n",
       "three and 13 and <em>14</em> years in the case of two.  The background procedural"
      ],
      "text/plain": [
       "<IPython.core.display.HTML object>"
      ]
     },
     "metadata": {},
     "output_type": "display_data"
    },
    {
     "data": {
      "text/html": [
       "requested in <em>September</em> 1998, some <em>14</em> years <em>ago</em>.  The \n",
       "<em>District</em> Judge ruled on 8 <em>September</em> 1999 that his"
      ],
      "text/plain": [
       "<IPython.core.display.HTML object>"
      ]
     },
     "metadata": {},
     "output_type": "display_data"
    },
    {
     "data": {
      "text/html": [
       "Bary’s extradition was requested in July 1999.  The <em>District</em> Judge ruled on 25 \n",
       "April 2000 that his extradition"
      ],
      "text/plain": [
       "<IPython.core.display.HTML object>"
      ]
     },
     "metadata": {},
     "output_type": "display_data"
    },
    {
     "data": {
      "text/html": [
       "United States on 21 May 2004, now \n",
       "over eight years <em>ago</em>.  The case against him is that he conspired to take"
      ],
      "text/plain": [
       "<IPython.core.display.HTML object>"
      ]
     },
     "metadata": {},
     "output_type": "display_data"
    },
    {
     "data": {
      "text/html": [
       "extradition proceedings were resumed with the Senior <em>District</em> Judge ruling \n",
       "on 15 November 2007 that his extradition"
      ],
      "text/plain": [
       "<IPython.core.display.HTML object>"
      ]
     },
     "metadata": {},
     "output_type": "display_data"
    }
   ],
   "source": [
    "from IPython.display import HTML, display\n",
    "\n",
    "b = {\n",
    " \"fields\": [\"my_attachment.content\"], \n",
    "  \"query\": {\n",
    "    \"match\": \n",
    "      {\"my_attachment.content\": \"hjj September 14 ago District gkk\"}\n",
    "},\n",
    "\"highlight\" : {\n",
    "    \"fields\" : {\n",
    "      \"my_attachment.content\" : {}\n",
    "    }\n",
    "  }\n",
    "}\n",
    "\n",
    "response = es.search(index=\"casedb\", body=b)\n",
    "for hit in response['hits']['hits']:\n",
    "    for i in hit[\"highlight\"][\"my_attachment.content\"]:\n",
    "        display(HTML(i))"
   ]
  }
 ],
 "metadata": {
  "kernelspec": {
   "display_name": "Python 2",
   "language": "python",
   "name": "python2"
  },
  "language_info": {
   "codemirror_mode": {
    "name": "ipython",
    "version": 2
   },
   "file_extension": ".py",
   "mimetype": "text/x-python",
   "name": "python",
   "nbconvert_exporter": "python",
   "pygments_lexer": "ipython2",
   "version": "2.7.11"
  }
 },
 "nbformat": 4,
 "nbformat_minor": 0
}
